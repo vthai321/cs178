{
 "cells": [
  {
   "cell_type": "markdown",
   "id": "bf8a8f12",
   "metadata": {},
   "source": [
    "# <center> CS 178: Machine Learning &amp; Data Mining </center>\n",
    "## <center>  Discussion 01: 6 April 2023 </center>"
   ]
  },
  {
   "cell_type": "markdown",
   "id": "d56c12dc",
   "metadata": {},
   "source": [
    "---\n",
    "## Part 1 : Setting up Your Conda Environment"
   ]
  },
  {
   "cell_type": "markdown",
   "id": "698f6acb",
   "metadata": {},
   "source": [
    "### What is Conda?\n",
    "\n",
    "[Conda](https://docs.conda.io/en/latest/#) is an open-source package and environment manager for Python. Using Conda, we can easily install, update, or remove various Python packages. One of the key features of Conda is that it lets us create separate environments, which allows us to install different packages (or even different versions of the same package) for different projects. For example, if we are working on a project which requires Python 2.7 and we're also working on a separate project which requires Python 3.10, we can maintain a separate Conda environment for each project in order to easily switch between the two.\n",
    "\n",
    "If you have used Python before, you've probably used pip to install packages. For a comparision between pip and Conda, check out [this blog post](https://www.anaconda.com/blog/understanding-conda-and-pip).\n",
    "\n",
    "### Installing Python and Conda via Miniconda\n",
    "In this tutorial, we wil use [Miniconda](https://docs.conda.io/en/latest/miniconda.html) to install Python and Conda. \n",
    "1. Download the correct installer for your system [here](https://docs.conda.io/en/latest/miniconda.html#latest-miniconda-installer-links), and follow the instructions to install Miniconda. \n",
    "\n",
    "There is also [Anaconda](https://www.anaconda.com/), which is a distribution of Conda that comes with many popular data science packages in addition to Conda. It doesn't matter too much which one you use (see [here](https://docs.conda.io/projects/conda/en/latest/user-guide/install/download.html#anaconda-or-miniconda) for some guidelines), but in this tutorial we'll be using Miniconda."
   ]
  },
  {
   "cell_type": "markdown",
   "id": "cc95eb47",
   "metadata": {},
   "source": [
    "###  Creating a Conda Environment\n",
    "\n",
    "Once you've installed Conda, open up a terminal (on Linux / Mac) or the Anaconda Prompt (on Windows). We'll now set up an environment for CS178 and install some necessary packages.\n",
    "\n",
    "1. Let's first verify that conda is installed correctly. In your terminal, run the command `conda --version` and verify that the output is something like `conda 4.14.0`.\n",
    "2. Now, we'll create a new Conda environment named `cs178` with the latest version of Python (3.10). To do this, run the command `conda create --name cs178 python=3.10`. If you ever forget the name of an environment you've created, you can list all of your environments with `conda --info envs`.\n",
    "3. To use our new environment, we must first activate it with `conda activate cs178`. The name of the active environment should now be displayed in front of your prompt in parentheses. An environment can be deactivated using `conda deactivate`.\n",
    "4. Let's install some packages in our `cs178` environment. First, run the command `conda config --env --add channels conda-forge`. This command tells Conda to search [Conda Forge](https://conda-forge.org/docs/user/introduction.html) for packages. Next, Run the following command to install some packages: `\n",
    "conda install matplotlib pandas jupyterlab`.\n",
    "5. Now, run `conda install 'scikit-learn>=1.1'`. This will install the package `scikit-learn`, with the version being at least 1.1. Having an up-to-date version of `scikit-learn` is important for Homework 1.\n",
    "    - Some have experienced trouble executing this command; this can be due to potential conflicts with how `conda` installed the previous packages. Should you face difficulties, try running just `conda install scikit-learn` and then manually confirm the version to be at least 1.1 by running in a python interpreter: \n",
    "       \n",
    "       `>>> import sklearn; print(sklearn.__version__)`\n",
    "6. You can use the command `conda list` to show all of the packages installed in your environment -- if everything has worked so far, you should see the packages we installed (scikit-learn, pandas, ...) plus their (many) dependencies.\n",
    "\n",
    "Congratulations! You've now set up your Conda environment with all of the necessary packages to complete the assignments in CS178. In the next section, we'll tinker around with some of the packages we've installed to better familiarize ourselves with our new tools.\n",
    "\n",
    "### Additional Resources\n",
    "Note that we've only covered the bare essentials of Conda. If you'd like to read more, here are some resources:\n",
    "- [Conda User Guide](https://conda.io/projects/conda/en/latest/user-guide/index.html)\n",
    "- [Conda Cheat Sheet](https://docs.conda.io/projects/conda/en/latest/user-guide/cheatsheet.html)\n",
    "- [Conda vs Pip](https://www.anaconda.com/blog/understanding-conda-and-pip)\n"
   ]
  },
  {
   "cell_type": "markdown",
   "id": "d860c871",
   "metadata": {},
   "source": [
    "---\n",
    "## Part 2: Jupyter Notebooks and Numpy"
   ]
  },
  {
   "cell_type": "markdown",
   "id": "c1a00ff7",
   "metadata": {},
   "source": [
    "### Jupyter Notebooks\n",
    "\n",
    "In the previous section, we installed a package called `jupyterlab`. This package lets us use **Jupyter Notebooks**. A notebook is a web-browser based tool that combines code, text, equations, and much more into a single document. Let's create a notebook and get a feel for how these work.\n",
    "\n",
    "1. In your terminal, `cd` into the directory where you'd like to create your notebooks, and run `jupyter notebook`. This should automatically open a tab in your browser. From here, we can create a new blank notebook (under \"new\"). Make sure you have our `cs178` environment active!\n",
    "\n",
    "A notebook consists of many **cells**. Each cell can either contain Markdown (like this cell!) or code. In Markdown cells, we can use standard [Markdown syntax](https://www.markdownguide.org/cheat-sheet/) -- for example, we can make text **bold**, *italics*, make lists, write `code`, etc. \n",
    "\n",
    "Markdown cells additionally support mathematical equations via LaTeX. For example, inline math can be written by wrapping LaTeX code in`$[...]$` and display-mode math can be written by wrapping LaTex code in `$$[...]$$`. For example, here's some inline math: $a^2 + b^2 = c^2$, and here's some display-mode math: $$\\int x^2 d x = \\frac{1}{3} x^3 + C.$$ If you'd like to learn more about LaTeX, check out this [short tutorial](https://www.overleaf.com/learn/latex/Learn_LaTeX_in_30_minutes). **LaTeX is a very useful tool for typesetting math equations, but using LaTeX isn't a requirement in this course.**\n",
    "\n",
    "In code cells, we can type Python code as usual. We can also execute individual cells in order to run the code they contain."
   ]
  },
  {
   "cell_type": "code",
   "execution_count": null,
   "id": "86d82fb0",
   "metadata": {},
   "outputs": [],
   "source": [
    "a = 3\n",
    "b = 5\n",
    "c = a + b\n",
    "print(c)"
   ]
  },
  {
   "cell_type": "markdown",
   "id": "1afe99cf",
   "metadata": {},
   "source": [
    "### Numpy Arrays\n",
    "\n",
    "Let's now familiarize ourselves a little bit with Python and Numpy. We start by importing some packages that we'll be using."
   ]
  },
  {
   "cell_type": "code",
   "execution_count": 2,
   "id": "c9226ae5",
   "metadata": {},
   "outputs": [],
   "source": [
    "import numpy as np\n",
    "from sklearn.datasets import load_iris"
   ]
  },
  {
   "cell_type": "markdown",
   "id": "582c33ae",
   "metadata": {},
   "source": [
    "First, we'll load in the Iris dataset and store the features in a numpy array `X` and the labels in the numpy array `y`."
   ]
  },
  {
   "cell_type": "code",
   "execution_count": 3,
   "id": "fcccb0cd",
   "metadata": {},
   "outputs": [],
   "source": [
    "iris = load_iris()\n",
    "X = iris.data\n",
    "y = iris.target"
   ]
  },
  {
   "cell_type": "markdown",
   "id": "ce6e7915",
   "metadata": {},
   "source": [
    "#### Printing \n",
    "We can print `X` and `y` to see their contents."
   ]
  },
  {
   "cell_type": "code",
   "execution_count": 5,
   "id": "c477b12d",
   "metadata": {},
   "outputs": [
    {
     "data": {
      "text/plain": [
       "array([[5.1, 3.5, 1.4, 0.2],\n",
       "       [4.9, 3. , 1.4, 0.2],\n",
       "       [4.7, 3.2, 1.3, 0.2],\n",
       "       [4.6, 3.1, 1.5, 0.2],\n",
       "       [5. , 3.6, 1.4, 0.2],\n",
       "       [5.4, 3.9, 1.7, 0.4],\n",
       "       [4.6, 3.4, 1.4, 0.3],\n",
       "       [5. , 3.4, 1.5, 0.2],\n",
       "       [4.4, 2.9, 1.4, 0.2],\n",
       "       [4.9, 3.1, 1.5, 0.1],\n",
       "       [5.4, 3.7, 1.5, 0.2],\n",
       "       [4.8, 3.4, 1.6, 0.2],\n",
       "       [4.8, 3. , 1.4, 0.1],\n",
       "       [4.3, 3. , 1.1, 0.1],\n",
       "       [5.8, 4. , 1.2, 0.2],\n",
       "       [5.7, 4.4, 1.5, 0.4],\n",
       "       [5.4, 3.9, 1.3, 0.4],\n",
       "       [5.1, 3.5, 1.4, 0.3],\n",
       "       [5.7, 3.8, 1.7, 0.3],\n",
       "       [5.1, 3.8, 1.5, 0.3],\n",
       "       [5.4, 3.4, 1.7, 0.2],\n",
       "       [5.1, 3.7, 1.5, 0.4],\n",
       "       [4.6, 3.6, 1. , 0.2],\n",
       "       [5.1, 3.3, 1.7, 0.5],\n",
       "       [4.8, 3.4, 1.9, 0.2],\n",
       "       [5. , 3. , 1.6, 0.2],\n",
       "       [5. , 3.4, 1.6, 0.4],\n",
       "       [5.2, 3.5, 1.5, 0.2],\n",
       "       [5.2, 3.4, 1.4, 0.2],\n",
       "       [4.7, 3.2, 1.6, 0.2],\n",
       "       [4.8, 3.1, 1.6, 0.2],\n",
       "       [5.4, 3.4, 1.5, 0.4],\n",
       "       [5.2, 4.1, 1.5, 0.1],\n",
       "       [5.5, 4.2, 1.4, 0.2],\n",
       "       [4.9, 3.1, 1.5, 0.2],\n",
       "       [5. , 3.2, 1.2, 0.2],\n",
       "       [5.5, 3.5, 1.3, 0.2],\n",
       "       [4.9, 3.6, 1.4, 0.1],\n",
       "       [4.4, 3. , 1.3, 0.2],\n",
       "       [5.1, 3.4, 1.5, 0.2],\n",
       "       [5. , 3.5, 1.3, 0.3],\n",
       "       [4.5, 2.3, 1.3, 0.3],\n",
       "       [4.4, 3.2, 1.3, 0.2],\n",
       "       [5. , 3.5, 1.6, 0.6],\n",
       "       [5.1, 3.8, 1.9, 0.4],\n",
       "       [4.8, 3. , 1.4, 0.3],\n",
       "       [5.1, 3.8, 1.6, 0.2],\n",
       "       [4.6, 3.2, 1.4, 0.2],\n",
       "       [5.3, 3.7, 1.5, 0.2],\n",
       "       [5. , 3.3, 1.4, 0.2],\n",
       "       [7. , 3.2, 4.7, 1.4],\n",
       "       [6.4, 3.2, 4.5, 1.5],\n",
       "       [6.9, 3.1, 4.9, 1.5],\n",
       "       [5.5, 2.3, 4. , 1.3],\n",
       "       [6.5, 2.8, 4.6, 1.5],\n",
       "       [5.7, 2.8, 4.5, 1.3],\n",
       "       [6.3, 3.3, 4.7, 1.6],\n",
       "       [4.9, 2.4, 3.3, 1. ],\n",
       "       [6.6, 2.9, 4.6, 1.3],\n",
       "       [5.2, 2.7, 3.9, 1.4],\n",
       "       [5. , 2. , 3.5, 1. ],\n",
       "       [5.9, 3. , 4.2, 1.5],\n",
       "       [6. , 2.2, 4. , 1. ],\n",
       "       [6.1, 2.9, 4.7, 1.4],\n",
       "       [5.6, 2.9, 3.6, 1.3],\n",
       "       [6.7, 3.1, 4.4, 1.4],\n",
       "       [5.6, 3. , 4.5, 1.5],\n",
       "       [5.8, 2.7, 4.1, 1. ],\n",
       "       [6.2, 2.2, 4.5, 1.5],\n",
       "       [5.6, 2.5, 3.9, 1.1],\n",
       "       [5.9, 3.2, 4.8, 1.8],\n",
       "       [6.1, 2.8, 4. , 1.3],\n",
       "       [6.3, 2.5, 4.9, 1.5],\n",
       "       [6.1, 2.8, 4.7, 1.2],\n",
       "       [6.4, 2.9, 4.3, 1.3],\n",
       "       [6.6, 3. , 4.4, 1.4],\n",
       "       [6.8, 2.8, 4.8, 1.4],\n",
       "       [6.7, 3. , 5. , 1.7],\n",
       "       [6. , 2.9, 4.5, 1.5],\n",
       "       [5.7, 2.6, 3.5, 1. ],\n",
       "       [5.5, 2.4, 3.8, 1.1],\n",
       "       [5.5, 2.4, 3.7, 1. ],\n",
       "       [5.8, 2.7, 3.9, 1.2],\n",
       "       [6. , 2.7, 5.1, 1.6],\n",
       "       [5.4, 3. , 4.5, 1.5],\n",
       "       [6. , 3.4, 4.5, 1.6],\n",
       "       [6.7, 3.1, 4.7, 1.5],\n",
       "       [6.3, 2.3, 4.4, 1.3],\n",
       "       [5.6, 3. , 4.1, 1.3],\n",
       "       [5.5, 2.5, 4. , 1.3],\n",
       "       [5.5, 2.6, 4.4, 1.2],\n",
       "       [6.1, 3. , 4.6, 1.4],\n",
       "       [5.8, 2.6, 4. , 1.2],\n",
       "       [5. , 2.3, 3.3, 1. ],\n",
       "       [5.6, 2.7, 4.2, 1.3],\n",
       "       [5.7, 3. , 4.2, 1.2],\n",
       "       [5.7, 2.9, 4.2, 1.3],\n",
       "       [6.2, 2.9, 4.3, 1.3],\n",
       "       [5.1, 2.5, 3. , 1.1],\n",
       "       [5.7, 2.8, 4.1, 1.3],\n",
       "       [6.3, 3.3, 6. , 2.5],\n",
       "       [5.8, 2.7, 5.1, 1.9],\n",
       "       [7.1, 3. , 5.9, 2.1],\n",
       "       [6.3, 2.9, 5.6, 1.8],\n",
       "       [6.5, 3. , 5.8, 2.2],\n",
       "       [7.6, 3. , 6.6, 2.1],\n",
       "       [4.9, 2.5, 4.5, 1.7],\n",
       "       [7.3, 2.9, 6.3, 1.8],\n",
       "       [6.7, 2.5, 5.8, 1.8],\n",
       "       [7.2, 3.6, 6.1, 2.5],\n",
       "       [6.5, 3.2, 5.1, 2. ],\n",
       "       [6.4, 2.7, 5.3, 1.9],\n",
       "       [6.8, 3. , 5.5, 2.1],\n",
       "       [5.7, 2.5, 5. , 2. ],\n",
       "       [5.8, 2.8, 5.1, 2.4],\n",
       "       [6.4, 3.2, 5.3, 2.3],\n",
       "       [6.5, 3. , 5.5, 1.8],\n",
       "       [7.7, 3.8, 6.7, 2.2],\n",
       "       [7.7, 2.6, 6.9, 2.3],\n",
       "       [6. , 2.2, 5. , 1.5],\n",
       "       [6.9, 3.2, 5.7, 2.3],\n",
       "       [5.6, 2.8, 4.9, 2. ],\n",
       "       [7.7, 2.8, 6.7, 2. ],\n",
       "       [6.3, 2.7, 4.9, 1.8],\n",
       "       [6.7, 3.3, 5.7, 2.1],\n",
       "       [7.2, 3.2, 6. , 1.8],\n",
       "       [6.2, 2.8, 4.8, 1.8],\n",
       "       [6.1, 3. , 4.9, 1.8],\n",
       "       [6.4, 2.8, 5.6, 2.1],\n",
       "       [7.2, 3. , 5.8, 1.6],\n",
       "       [7.4, 2.8, 6.1, 1.9],\n",
       "       [7.9, 3.8, 6.4, 2. ],\n",
       "       [6.4, 2.8, 5.6, 2.2],\n",
       "       [6.3, 2.8, 5.1, 1.5],\n",
       "       [6.1, 2.6, 5.6, 1.4],\n",
       "       [7.7, 3. , 6.1, 2.3],\n",
       "       [6.3, 3.4, 5.6, 2.4],\n",
       "       [6.4, 3.1, 5.5, 1.8],\n",
       "       [6. , 3. , 4.8, 1.8],\n",
       "       [6.9, 3.1, 5.4, 2.1],\n",
       "       [6.7, 3.1, 5.6, 2.4],\n",
       "       [6.9, 3.1, 5.1, 2.3],\n",
       "       [5.8, 2.7, 5.1, 1.9],\n",
       "       [6.8, 3.2, 5.9, 2.3],\n",
       "       [6.7, 3.3, 5.7, 2.5],\n",
       "       [6.7, 3. , 5.2, 2.3],\n",
       "       [6.3, 2.5, 5. , 1.9],\n",
       "       [6.5, 3. , 5.2, 2. ],\n",
       "       [6.2, 3.4, 5.4, 2.3],\n",
       "       [5.9, 3. , 5.1, 1.8]])"
      ]
     },
     "execution_count": 5,
     "metadata": {},
     "output_type": "execute_result"
    }
   ],
   "source": [
    "X"
   ]
  },
  {
   "cell_type": "code",
   "execution_count": 4,
   "id": "cab3236c",
   "metadata": {},
   "outputs": [
    {
     "data": {
      "text/plain": [
       "array([0, 0, 0, 0, 0, 0, 0, 0, 0, 0, 0, 0, 0, 0, 0, 0, 0, 0, 0, 0, 0, 0,\n",
       "       0, 0, 0, 0, 0, 0, 0, 0, 0, 0, 0, 0, 0, 0, 0, 0, 0, 0, 0, 0, 0, 0,\n",
       "       0, 0, 0, 0, 0, 0, 1, 1, 1, 1, 1, 1, 1, 1, 1, 1, 1, 1, 1, 1, 1, 1,\n",
       "       1, 1, 1, 1, 1, 1, 1, 1, 1, 1, 1, 1, 1, 1, 1, 1, 1, 1, 1, 1, 1, 1,\n",
       "       1, 1, 1, 1, 1, 1, 1, 1, 1, 1, 1, 1, 2, 2, 2, 2, 2, 2, 2, 2, 2, 2,\n",
       "       2, 2, 2, 2, 2, 2, 2, 2, 2, 2, 2, 2, 2, 2, 2, 2, 2, 2, 2, 2, 2, 2,\n",
       "       2, 2, 2, 2, 2, 2, 2, 2, 2, 2, 2, 2, 2, 2, 2, 2, 2, 2])"
      ]
     },
     "execution_count": 4,
     "metadata": {},
     "output_type": "execute_result"
    }
   ],
   "source": [
    "y"
   ]
  },
  {
   "cell_type": "markdown",
   "id": "204502a6",
   "metadata": {},
   "source": [
    "#### Shape\n",
    "We can see the shape of a numpy array by using `.shape`. Here, we see that `X` is a numpy array with 150 rows and 4 columns, and `y` is a numpy array with 150 entries.\n"
   ]
  },
  {
   "cell_type": "code",
   "execution_count": 6,
   "id": "49013fef",
   "metadata": {},
   "outputs": [
    {
     "data": {
      "text/plain": [
       "(150, 4)"
      ]
     },
     "execution_count": 6,
     "metadata": {},
     "output_type": "execute_result"
    }
   ],
   "source": [
    "X.shape"
   ]
  },
  {
   "cell_type": "code",
   "execution_count": 7,
   "id": "9603f3a8",
   "metadata": {},
   "outputs": [
    {
     "data": {
      "text/plain": [
       "(150,)"
      ]
     },
     "execution_count": 7,
     "metadata": {},
     "output_type": "execute_result"
    }
   ],
   "source": [
    "y.shape"
   ]
  },
  {
   "cell_type": "markdown",
   "id": "52b5477a",
   "metadata": {},
   "source": [
    "#### Indexing.\n",
    "\n",
    "We can access specific elements of numpy arrays by *indexing*. There's various ways of doing this, each of which is useful in different situations. It is important to be familiar with all of these.\n",
    "\n",
    "##### Basic Indexing.\n",
    "\n",
    "The simplest way of indexing a numpy array is by specifying integers corresponding to which entry we want. We can also access particular rows/columns of our numpy array."
   ]
  },
  {
   "cell_type": "code",
   "execution_count": 8,
   "id": "ee603a9a",
   "metadata": {},
   "outputs": [
    {
     "data": {
      "text/plain": [
       "1.4"
      ]
     },
     "execution_count": 8,
     "metadata": {},
     "output_type": "execute_result"
    }
   ],
   "source": [
    "# Gets the entry of X in row 1 and column 2 -- remember that Python is zero-indexed!\n",
    "X[1, 2]"
   ]
  },
  {
   "cell_type": "code",
   "execution_count": 9,
   "id": "52a6852c",
   "metadata": {},
   "outputs": [
    {
     "data": {
      "text/plain": [
       "0"
      ]
     },
     "execution_count": 9,
     "metadata": {},
     "output_type": "execute_result"
    }
   ],
   "source": [
    "# Gets the 7th entry of y\n",
    "y[6]"
   ]
  },
  {
   "cell_type": "code",
   "execution_count": 10,
   "id": "27872b4b",
   "metadata": {},
   "outputs": [
    {
     "data": {
      "text/plain": [
       "array([5.1, 3.5, 1.4, 0.2])"
      ]
     },
     "execution_count": 10,
     "metadata": {},
     "output_type": "execute_result"
    }
   ],
   "source": [
    "# Get the first row of X\n",
    "X[0, :]  # Or just X[0] would also work"
   ]
  },
  {
   "cell_type": "code",
   "execution_count": 14,
   "id": "007c49ed",
   "metadata": {},
   "outputs": [
    {
     "data": {
      "text/plain": [
       "array([5.1, 4.9, 4.7, 4.6, 5. , 5.4, 4.6, 5. , 4.4, 4.9, 5.4, 4.8, 4.8,\n",
       "       4.3, 5.8, 5.7, 5.4, 5.1, 5.7, 5.1, 5.4, 5.1, 4.6, 5.1, 4.8, 5. ,\n",
       "       5. , 5.2, 5.2, 4.7, 4.8, 5.4, 5.2, 5.5, 4.9, 5. , 5.5, 4.9, 4.4,\n",
       "       5.1, 5. , 4.5, 4.4, 5. , 5.1, 4.8, 5.1, 4.6, 5.3, 5. , 7. , 6.4,\n",
       "       6.9, 5.5, 6.5, 5.7, 6.3, 4.9, 6.6, 5.2, 5. , 5.9, 6. , 6.1, 5.6,\n",
       "       6.7, 5.6, 5.8, 6.2, 5.6, 5.9, 6.1, 6.3, 6.1, 6.4, 6.6, 6.8, 6.7,\n",
       "       6. , 5.7, 5.5, 5.5, 5.8, 6. , 5.4, 6. , 6.7, 6.3, 5.6, 5.5, 5.5,\n",
       "       6.1, 5.8, 5. , 5.6, 5.7, 5.7, 6.2, 5.1, 5.7, 6.3, 5.8, 7.1, 6.3,\n",
       "       6.5, 7.6, 4.9, 7.3, 6.7, 7.2, 6.5, 6.4, 6.8, 5.7, 5.8, 6.4, 6.5,\n",
       "       7.7, 7.7, 6. , 6.9, 5.6, 7.7, 6.3, 6.7, 7.2, 6.2, 6.1, 6.4, 7.2,\n",
       "       7.4, 7.9, 6.4, 6.3, 6.1, 7.7, 6.3, 6.4, 6. , 6.9, 6.7, 6.9, 5.8,\n",
       "       6.8, 6.7, 6.7, 6.3, 6.5, 6.2, 5.9])"
      ]
     },
     "execution_count": 14,
     "metadata": {},
     "output_type": "execute_result"
    }
   ],
   "source": [
    "# Get the first column of X\n",
    "X[:, 0]"
   ]
  },
  {
   "cell_type": "markdown",
   "id": "5d07ad4c",
   "metadata": {},
   "source": [
    "##### Setting elements of an array.\n",
    "\n",
    "Using indexing, we can set the value of a specific element in a numpy array."
   ]
  },
  {
   "cell_type": "code",
   "execution_count": 15,
   "id": "2e11b45e",
   "metadata": {},
   "outputs": [],
   "source": [
    "# Sets the 6th entry of y to 1\n",
    "y[6] = 1 "
   ]
  },
  {
   "cell_type": "code",
   "execution_count": 16,
   "id": "a45aecec",
   "metadata": {},
   "outputs": [
    {
     "data": {
      "text/plain": [
       "1"
      ]
     },
     "execution_count": 16,
     "metadata": {},
     "output_type": "execute_result"
    }
   ],
   "source": [
    "y[6]"
   ]
  },
  {
   "cell_type": "markdown",
   "id": "536d5cf7",
   "metadata": {},
   "source": [
    "##### Indexing by Slicing.\n",
    "\n",
    "Slicing lets us access multiple contiguous rows/columns."
   ]
  },
  {
   "cell_type": "markdown",
   "id": "9a583b25",
   "metadata": {},
   "source": [
    "Answers to question:\n",
    "\n",
    "1. X[9:12, 1:3]\n",
    "\n",
    "2.X[:, :-1] <-- Trick with negative indexing "
   ]
  },
  {
   "cell_type": "code",
   "execution_count": 13,
   "id": "0ca1a18f",
   "metadata": {
    "scrolled": true
   },
   "outputs": [
    {
     "data": {
      "text/plain": [
       "array([[5.1, 3.5, 1.4, 0.2],\n",
       "       [4.9, 3. , 1.4, 0.2],\n",
       "       [4.7, 3.2, 1.3, 0.2]])"
      ]
     },
     "execution_count": 13,
     "metadata": {},
     "output_type": "execute_result"
    }
   ],
   "source": [
    "# Get the first 3 rows of X\n",
    "X[:3, :]"
   ]
  },
  {
   "cell_type": "code",
   "execution_count": 17,
   "id": "b0fe8a2b",
   "metadata": {
    "scrolled": true
   },
   "outputs": [
    {
     "data": {
      "text/plain": [
       "array([[5.4, 3.9, 1.7, 0.4],\n",
       "       [4.6, 3.4, 1.4, 0.3],\n",
       "       [5. , 3.4, 1.5, 0.2]])"
      ]
     },
     "execution_count": 17,
     "metadata": {},
     "output_type": "execute_result"
    }
   ],
   "source": [
    "# Get rows 5, 6, 7 -- note row 8 is not included\n",
    "X[5:8, :]"
   ]
  },
  {
   "cell_type": "code",
   "execution_count": 18,
   "id": "c133327c",
   "metadata": {},
   "outputs": [
    {
     "data": {
      "text/plain": [
       "array([[3.9, 1.7],\n",
       "       [3.4, 1.4],\n",
       "       [3.4, 1.5]])"
      ]
     },
     "execution_count": 18,
     "metadata": {},
     "output_type": "execute_result"
    }
   ],
   "source": [
    "# Get rows 5, 6, 7 of X and columns 1, 2\n",
    "X[5:8, 1:3]"
   ]
  },
  {
   "cell_type": "markdown",
   "id": "9f6de028",
   "metadata": {},
   "source": [
    "##### Negative Indexing.\n",
    "\n",
    "You can also use negative indexes to count from the end of the array."
   ]
  },
  {
   "cell_type": "markdown",
   "id": "317455e8",
   "metadata": {},
   "source": [
    "1. X[-4 :-1, :]\n",
    "\n",
    "2. X[:, -3: -2]"
   ]
  },
  {
   "cell_type": "code",
   "execution_count": null,
   "id": "9ed6b621",
   "metadata": {
    "scrolled": true
   },
   "outputs": [],
   "source": [
    "X[-1, :]   # Get the last row"
   ]
  },
  {
   "cell_type": "code",
   "execution_count": null,
   "id": "6da2e1dc",
   "metadata": {},
   "outputs": [],
   "source": [
    "X[-2:, :]  # Get the last two rows"
   ]
  },
  {
   "cell_type": "code",
   "execution_count": 19,
   "id": "d14b3eb8",
   "metadata": {},
   "outputs": [
    {
     "data": {
      "text/plain": [
       "array([[5.1, 3.5, 1.4],\n",
       "       [4.9, 3. , 1.4],\n",
       "       [4.7, 3.2, 1.3],\n",
       "       [4.6, 3.1, 1.5],\n",
       "       [5. , 3.6, 1.4],\n",
       "       [5.4, 3.9, 1.7],\n",
       "       [4.6, 3.4, 1.4],\n",
       "       [5. , 3.4, 1.5],\n",
       "       [4.4, 2.9, 1.4],\n",
       "       [4.9, 3.1, 1.5],\n",
       "       [5.4, 3.7, 1.5],\n",
       "       [4.8, 3.4, 1.6],\n",
       "       [4.8, 3. , 1.4],\n",
       "       [4.3, 3. , 1.1],\n",
       "       [5.8, 4. , 1.2],\n",
       "       [5.7, 4.4, 1.5],\n",
       "       [5.4, 3.9, 1.3],\n",
       "       [5.1, 3.5, 1.4],\n",
       "       [5.7, 3.8, 1.7],\n",
       "       [5.1, 3.8, 1.5],\n",
       "       [5.4, 3.4, 1.7],\n",
       "       [5.1, 3.7, 1.5],\n",
       "       [4.6, 3.6, 1. ],\n",
       "       [5.1, 3.3, 1.7],\n",
       "       [4.8, 3.4, 1.9],\n",
       "       [5. , 3. , 1.6],\n",
       "       [5. , 3.4, 1.6],\n",
       "       [5.2, 3.5, 1.5],\n",
       "       [5.2, 3.4, 1.4],\n",
       "       [4.7, 3.2, 1.6],\n",
       "       [4.8, 3.1, 1.6],\n",
       "       [5.4, 3.4, 1.5],\n",
       "       [5.2, 4.1, 1.5],\n",
       "       [5.5, 4.2, 1.4],\n",
       "       [4.9, 3.1, 1.5],\n",
       "       [5. , 3.2, 1.2],\n",
       "       [5.5, 3.5, 1.3],\n",
       "       [4.9, 3.6, 1.4],\n",
       "       [4.4, 3. , 1.3],\n",
       "       [5.1, 3.4, 1.5],\n",
       "       [5. , 3.5, 1.3],\n",
       "       [4.5, 2.3, 1.3],\n",
       "       [4.4, 3.2, 1.3],\n",
       "       [5. , 3.5, 1.6],\n",
       "       [5.1, 3.8, 1.9],\n",
       "       [4.8, 3. , 1.4],\n",
       "       [5.1, 3.8, 1.6],\n",
       "       [4.6, 3.2, 1.4],\n",
       "       [5.3, 3.7, 1.5],\n",
       "       [5. , 3.3, 1.4],\n",
       "       [7. , 3.2, 4.7],\n",
       "       [6.4, 3.2, 4.5],\n",
       "       [6.9, 3.1, 4.9],\n",
       "       [5.5, 2.3, 4. ],\n",
       "       [6.5, 2.8, 4.6],\n",
       "       [5.7, 2.8, 4.5],\n",
       "       [6.3, 3.3, 4.7],\n",
       "       [4.9, 2.4, 3.3],\n",
       "       [6.6, 2.9, 4.6],\n",
       "       [5.2, 2.7, 3.9],\n",
       "       [5. , 2. , 3.5],\n",
       "       [5.9, 3. , 4.2],\n",
       "       [6. , 2.2, 4. ],\n",
       "       [6.1, 2.9, 4.7],\n",
       "       [5.6, 2.9, 3.6],\n",
       "       [6.7, 3.1, 4.4],\n",
       "       [5.6, 3. , 4.5],\n",
       "       [5.8, 2.7, 4.1],\n",
       "       [6.2, 2.2, 4.5],\n",
       "       [5.6, 2.5, 3.9],\n",
       "       [5.9, 3.2, 4.8],\n",
       "       [6.1, 2.8, 4. ],\n",
       "       [6.3, 2.5, 4.9],\n",
       "       [6.1, 2.8, 4.7],\n",
       "       [6.4, 2.9, 4.3],\n",
       "       [6.6, 3. , 4.4],\n",
       "       [6.8, 2.8, 4.8],\n",
       "       [6.7, 3. , 5. ],\n",
       "       [6. , 2.9, 4.5],\n",
       "       [5.7, 2.6, 3.5],\n",
       "       [5.5, 2.4, 3.8],\n",
       "       [5.5, 2.4, 3.7],\n",
       "       [5.8, 2.7, 3.9],\n",
       "       [6. , 2.7, 5.1],\n",
       "       [5.4, 3. , 4.5],\n",
       "       [6. , 3.4, 4.5],\n",
       "       [6.7, 3.1, 4.7],\n",
       "       [6.3, 2.3, 4.4],\n",
       "       [5.6, 3. , 4.1],\n",
       "       [5.5, 2.5, 4. ],\n",
       "       [5.5, 2.6, 4.4],\n",
       "       [6.1, 3. , 4.6],\n",
       "       [5.8, 2.6, 4. ],\n",
       "       [5. , 2.3, 3.3],\n",
       "       [5.6, 2.7, 4.2],\n",
       "       [5.7, 3. , 4.2],\n",
       "       [5.7, 2.9, 4.2],\n",
       "       [6.2, 2.9, 4.3],\n",
       "       [5.1, 2.5, 3. ],\n",
       "       [5.7, 2.8, 4.1],\n",
       "       [6.3, 3.3, 6. ],\n",
       "       [5.8, 2.7, 5.1],\n",
       "       [7.1, 3. , 5.9],\n",
       "       [6.3, 2.9, 5.6],\n",
       "       [6.5, 3. , 5.8],\n",
       "       [7.6, 3. , 6.6],\n",
       "       [4.9, 2.5, 4.5],\n",
       "       [7.3, 2.9, 6.3],\n",
       "       [6.7, 2.5, 5.8],\n",
       "       [7.2, 3.6, 6.1],\n",
       "       [6.5, 3.2, 5.1],\n",
       "       [6.4, 2.7, 5.3],\n",
       "       [6.8, 3. , 5.5],\n",
       "       [5.7, 2.5, 5. ],\n",
       "       [5.8, 2.8, 5.1],\n",
       "       [6.4, 3.2, 5.3],\n",
       "       [6.5, 3. , 5.5],\n",
       "       [7.7, 3.8, 6.7],\n",
       "       [7.7, 2.6, 6.9],\n",
       "       [6. , 2.2, 5. ],\n",
       "       [6.9, 3.2, 5.7],\n",
       "       [5.6, 2.8, 4.9],\n",
       "       [7.7, 2.8, 6.7],\n",
       "       [6.3, 2.7, 4.9],\n",
       "       [6.7, 3.3, 5.7],\n",
       "       [7.2, 3.2, 6. ],\n",
       "       [6.2, 2.8, 4.8],\n",
       "       [6.1, 3. , 4.9],\n",
       "       [6.4, 2.8, 5.6],\n",
       "       [7.2, 3. , 5.8],\n",
       "       [7.4, 2.8, 6.1],\n",
       "       [7.9, 3.8, 6.4],\n",
       "       [6.4, 2.8, 5.6],\n",
       "       [6.3, 2.8, 5.1],\n",
       "       [6.1, 2.6, 5.6],\n",
       "       [7.7, 3. , 6.1],\n",
       "       [6.3, 3.4, 5.6],\n",
       "       [6.4, 3.1, 5.5],\n",
       "       [6. , 3. , 4.8],\n",
       "       [6.9, 3.1, 5.4],\n",
       "       [6.7, 3.1, 5.6],\n",
       "       [6.9, 3.1, 5.1],\n",
       "       [5.8, 2.7, 5.1],\n",
       "       [6.8, 3.2, 5.9],\n",
       "       [6.7, 3.3, 5.7],\n",
       "       [6.7, 3. , 5.2],\n",
       "       [6.3, 2.5, 5. ],\n",
       "       [6.5, 3. , 5.2],\n",
       "       [6.2, 3.4, 5.4],\n",
       "       [5.9, 3. , 5.1]])"
      ]
     },
     "execution_count": 19,
     "metadata": {},
     "output_type": "execute_result"
    }
   ],
   "source": [
    "X[:, :-1]  # First three columns"
   ]
  },
  {
   "cell_type": "markdown",
   "id": "f50b6766",
   "metadata": {},
   "source": [
    "##### Indexing with Arrays.\n",
    "\n",
    "We can also access non-contiguous parts of a numpy array by specifying a list (or numpy array) of indexes."
   ]
  },
  {
   "cell_type": "markdown",
   "id": "d9ecef50",
   "metadata": {},
   "source": [
    "1. rows = [3,5,19], X[rows] OR X[(3,5,19)]\n",
    "\n",
    "2. cols = [0, -1, -2], X[cols] OR X[(0,-1,-2)]\n",
    "\n",
    "Handy trick is to just write the tuple inside the square brackets "
   ]
  },
  {
   "cell_type": "code",
   "execution_count": null,
   "id": "b10889b6",
   "metadata": {},
   "outputs": [],
   "source": [
    "# Gets rows 1, 5, 9 from X\n",
    "rows = [1, 5, 9]\n",
    "X[rows, :]"
   ]
  },
  {
   "cell_type": "code",
   "execution_count": null,
   "id": "5b45df79",
   "metadata": {},
   "outputs": [],
   "source": [
    "# Gets first and last column from X\n",
    "cols = [0, -1]\n",
    "X[:, cols]"
   ]
  },
  {
   "cell_type": "markdown",
   "id": "ca3356cd",
   "metadata": {},
   "source": [
    "##### Logical Indexing.\n",
    "\n",
    "We can perform logical operations on an array, and use the results to index the array."
   ]
  },
  {
   "cell_type": "markdown",
   "id": "22fa56cf",
   "metadata": {},
   "source": [
    "1. X[X <= 0.8]\n",
    "\n",
    "Cool trick: X[0, X[0] > 0.5] returns all cols in first row with a value greater than 0.5 "
   ]
  },
  {
   "cell_type": "code",
   "execution_count": null,
   "id": "3891c848",
   "metadata": {},
   "outputs": [],
   "source": [
    "Z = np.random.rand((10))  # A numpy array with 10 random elements"
   ]
  },
  {
   "cell_type": "code",
   "execution_count": null,
   "id": "38e4457e",
   "metadata": {},
   "outputs": [],
   "source": [
    "Z"
   ]
  },
  {
   "cell_type": "code",
   "execution_count": null,
   "id": "095bee87",
   "metadata": {},
   "outputs": [],
   "source": [
    "Z > 0.5  # Check where entries are larger than 0.5"
   ]
  },
  {
   "cell_type": "code",
   "execution_count": null,
   "id": "8e07764e",
   "metadata": {},
   "outputs": [],
   "source": [
    "Z[Z > 0.5]  # Get all entries larger than 0.5"
   ]
  },
  {
   "cell_type": "code",
   "execution_count": null,
   "id": "4b473189",
   "metadata": {},
   "outputs": [],
   "source": []
  },
  {
   "cell_type": "markdown",
   "id": "7cc081dc",
   "metadata": {},
   "source": [
    "##### Vectorization\n",
    "\n",
    "As was shown above, sometimes we can perform operations on all elements of an array without having to index into each element individually like we would have to with lists. Operations that allow this are called _vectorized operations_. Here are some of them:"
   ]
  },
  {
   "cell_type": "code",
   "execution_count": 20,
   "id": "9e05c357",
   "metadata": {},
   "outputs": [
    {
     "name": "stdout",
     "output_type": "stream",
     "text": [
      "u: [0 1 2 3 4 5], v: [10 20 30 40 50 60]\n"
     ]
    }
   ],
   "source": [
    "u, v = np.arange(0, 6, 1), np.arange(10, 61, 10)  \n",
    "print(\"u: {}, v: {}\".format(u, v))"
   ]
  },
  {
   "cell_type": "code",
   "execution_count": 21,
   "id": "bbb6e7b2",
   "metadata": {},
   "outputs": [
    {
     "data": {
      "text/plain": [
       "array([ 5,  6,  7,  8,  9, 10])"
      ]
     },
     "execution_count": 21,
     "metadata": {},
     "output_type": "execute_result"
    }
   ],
   "source": [
    "# Unary Vectorized Operations\n",
    "u + 5"
   ]
  },
  {
   "cell_type": "code",
   "execution_count": 22,
   "id": "22201d49",
   "metadata": {},
   "outputs": [
    {
     "data": {
      "text/plain": [
       "array([ 0,  5, 10, 15, 20, 25])"
      ]
     },
     "execution_count": 22,
     "metadata": {},
     "output_type": "execute_result"
    }
   ],
   "source": [
    "u * 5"
   ]
  },
  {
   "cell_type": "code",
   "execution_count": 23,
   "id": "2035dcce",
   "metadata": {},
   "outputs": [
    {
     "data": {
      "text/plain": [
       "array([ 0,  1,  4,  9, 16, 25])"
      ]
     },
     "execution_count": 23,
     "metadata": {},
     "output_type": "execute_result"
    }
   ],
   "source": [
    "u ** 2"
   ]
  },
  {
   "cell_type": "code",
   "execution_count": null,
   "id": "dccf906f",
   "metadata": {},
   "outputs": [],
   "source": [
    "2 ** u"
   ]
  },
  {
   "cell_type": "code",
   "execution_count": null,
   "id": "5d55afee",
   "metadata": {},
   "outputs": [],
   "source": [
    "np.abs(u)  # absolute value, alternatively `abs(u)`"
   ]
  },
  {
   "cell_type": "code",
   "execution_count": null,
   "id": "f1f7da85",
   "metadata": {},
   "outputs": [],
   "source": [
    "np.sum(u)  # summation, alternatively `sum(u)` or `u.sum()`"
   ]
  },
  {
   "cell_type": "code",
   "execution_count": null,
   "id": "b11d81d0",
   "metadata": {},
   "outputs": [],
   "source": [
    "np.exp(u)  # e^u, natural log is also supported with `np.log(u)`"
   ]
  },
  {
   "cell_type": "code",
   "execution_count": null,
   "id": "0216813a",
   "metadata": {},
   "outputs": [],
   "source": [
    "# Binary Vectorized Operations (Note: u and v need to have the same shape)\n",
    "u+v, u-v"
   ]
  },
  {
   "cell_type": "code",
   "execution_count": null,
   "id": "38a69170",
   "metadata": {},
   "outputs": [],
   "source": [
    "u*v, u/v"
   ]
  },
  {
   "cell_type": "code",
   "execution_count": null,
   "id": "4b6ddbbb",
   "metadata": {},
   "outputs": [],
   "source": [
    "# Naturally, we can compose or chain multiple vectorized operations together\n",
    "np.exp(u / v) * v / np.sum(u) - u**2"
   ]
  },
  {
   "cell_type": "markdown",
   "id": "6fc8577e",
   "metadata": {},
   "source": [
    "np.std(X[:, X[3] == 0])"
   ]
  },
  {
   "cell_type": "markdown",
   "id": "ba7193b6",
   "metadata": {},
   "source": [
    "##### Broadcasting\n",
    "\n",
    "The vectorized operations extend to multi-dimensional arrays as you would expect, with the caveat that the binary operations either need to have the same shape or fall into a special case. Namely, if we have a 2D array of shape `(n, m)` and another of shape `(1, m)`, then it is possible to act as if the second array has been repeated along the first axis `n` times (effectively becoming a `(n, m)` array) and then perform the vectorized operation with the two of them. This is called _broadcasting_. In some respect, the unary vectorized operations can be seen as broadcasting scalars to the shape of the tensor being operated on. "
   ]
  },
  {
   "cell_type": "code",
   "execution_count": null,
   "id": "90bd39d3",
   "metadata": {},
   "outputs": [],
   "source": [
    "w = np.arange(0, 18, 1).reshape(3, 6)\n",
    "w, w.shape"
   ]
  },
  {
   "cell_type": "code",
   "execution_count": null,
   "id": "a80d7a02",
   "metadata": {},
   "outputs": [],
   "source": [
    "w - u  # Numpy accurately guesses that we want to broadcast `u` over the first axis, since u.shape[0] == w.shape[1]"
   ]
  },
  {
   "cell_type": "code",
   "execution_count": null,
   "id": "991c787b",
   "metadata": {},
   "outputs": [],
   "source": [
    "# Sometimes we need to be explicit and add in the missing dimension to broadcast over\n",
    "print(u, u.shape)\n",
    "print(u[np.newaxis, :], u[np.newaxis, :].shape)"
   ]
  },
  {
   "cell_type": "code",
   "execution_count": null,
   "id": "aa651f53",
   "metadata": {},
   "outputs": [],
   "source": [
    "# This is especially useful when performing outer products, distance matrices, etc.\n",
    "u[np.newaxis, :] * v[:, np.newaxis]"
   ]
  },
  {
   "cell_type": "code",
   "execution_count": null,
   "id": "e53dcd8f",
   "metadata": {},
   "outputs": [],
   "source": [
    "abs(u[np.newaxis, :] - v[:, np.newaxis])"
   ]
  },
  {
   "cell_type": "markdown",
   "id": "3e8e3175",
   "metadata": {},
   "source": [
    "### Additional Resources\n",
    "If you'd like to read more about Markdown, LaTeX, Jupyter Notebooks, or Python/Numpy, here are some useful resources:\n",
    "- [Markdown Cheatsheet](https://www.markdownguide.org/cheat-sheet/)\n",
    "- [Learn LaTeX in 30 Minutes](https://www.overleaf.com/learn/latex/Learn_LaTeX_in_30_minutes)\n",
    "- [Jupyter Notebook Tutorial](https://www.dataquest.io/blog/jupyter-notebook-tutorial/)\n",
    "- [A More In-Depth Python Tutorial](https://cs231n.github.io/python-numpy-tutorial/)\n",
    "- [Numpy QuickStart](https://numpy.org/doc/stable/user/quickstart.html)\n",
    "- [SciPy Lectures](http://scipy-lectures.org/)"
   ]
  },
  {
   "cell_type": "code",
   "execution_count": null,
   "id": "876d149b",
   "metadata": {},
   "outputs": [],
   "source": []
  },
  {
   "cell_type": "code",
   "execution_count": null,
   "id": "a4b3f52b",
   "metadata": {},
   "outputs": [],
   "source": []
  }
 ],
 "metadata": {
  "kernelspec": {
   "display_name": "Python 3 (ipykernel)",
   "language": "python",
   "name": "python3"
  },
  "language_info": {
   "codemirror_mode": {
    "name": "ipython",
    "version": 3
   },
   "file_extension": ".py",
   "mimetype": "text/x-python",
   "name": "python",
   "nbconvert_exporter": "python",
   "pygments_lexer": "ipython3",
   "version": "3.10.10"
  },
  "vscode": {
   "interpreter": {
    "hash": "b05ccd89a3288f2598f962d3e0019aaa644deb76a0ee4788ea84e60b73cffd57"
   }
  }
 },
 "nbformat": 4,
 "nbformat_minor": 5
}
